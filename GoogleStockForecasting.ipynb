{
  "nbformat": 4,
  "nbformat_minor": 0,
  "metadata": {
    "colab": {
      "provenance": [],
      "gpuType": "T4"
    },
    "kernelspec": {
      "name": "python3",
      "display_name": "Python 3"
    },
    "language_info": {
      "name": "python"
    },
    "accelerator": "GPU"
  },
  "cells": [
    {
      "cell_type": "markdown",
      "source": [
        "## Imports"
      ],
      "metadata": {
        "id": "SuUBH-BF7BJE"
      }
    },
    {
      "cell_type": "code",
      "execution_count": 165,
      "metadata": {
        "id": "IMywshU15unh"
      },
      "outputs": [],
      "source": [
        "import pandas as pd\n",
        "import numpy as np\n",
        "import matplotlib.pyplot as plt\n",
        "%matplotlib inline\n",
        "from copy import deepcopy\n",
        "import time\n",
        "\n",
        "from sklearn.preprocessing import MinMaxScaler\n",
        "from sklearn.metrics import mean_squared_error, r2_score\n",
        "\n",
        "import torch\n",
        "import torch.nn as nn\n",
        "from torch.utils.data import Dataset, DataLoader\n",
        "import torch.optim as optim\n",
        "import torch.nn.functional as F"
      ]
    },
    {
      "cell_type": "code",
      "source": [
        "# Set the device to GPU if availible or to cpu by default\n",
        "device = 'cuda' if torch.cuda.is_available() else 'cpu'\n",
        "device"
      ],
      "metadata": {
        "colab": {
          "base_uri": "https://localhost:8080/",
          "height": 35
        },
        "id": "pPYuLgZ0CweW",
        "outputId": "b895e06c-8550-4ce9-b6d6-4885c7a54c60"
      },
      "execution_count": 91,
      "outputs": [
        {
          "output_type": "execute_result",
          "data": {
            "text/plain": [
              "'cpu'"
            ],
            "application/vnd.google.colaboratory.intrinsic+json": {
              "type": "string"
            }
          },
          "metadata": {},
          "execution_count": 91
        }
      ]
    },
    {
      "cell_type": "markdown",
      "source": [
        "## Load Data"
      ],
      "metadata": {
        "id": "qpVc-DzT7Ehh"
      }
    },
    {
      "cell_type": "code",
      "source": [
        "data = pd.read_csv('/content/GOOG.csv') # Read data"
      ],
      "metadata": {
        "id": "gO0PqRn55wJY"
      },
      "execution_count": 92,
      "outputs": []
    },
    {
      "cell_type": "code",
      "source": [
        "data"
      ],
      "metadata": {
        "colab": {
          "base_uri": "https://localhost:8080/",
          "height": 424
        },
        "id": "i9zc5fIT53QT",
        "outputId": "90aefe58-80a4-4160-a31a-1ede4c3f069b"
      },
      "execution_count": 93,
      "outputs": [
        {
          "output_type": "execute_result",
          "data": {
            "text/plain": [
              "            Date        Open        High         Low       Close   Adj Close  \\\n",
              "0     2004-08-19    2.490664    2.591785    2.390042    2.499133    2.499133   \n",
              "1     2004-08-20    2.515820    2.716817    2.503118    2.697639    2.697639   \n",
              "2     2004-08-23    2.758411    2.826406    2.716070    2.724787    2.724787   \n",
              "3     2004-08-24    2.770615    2.779581    2.579581    2.611960    2.611960   \n",
              "4     2004-08-25    2.614201    2.689918    2.587302    2.640104    2.640104   \n",
              "...          ...         ...         ...         ...         ...         ...   \n",
              "4853  2023-11-29  138.985001  139.669998  136.294998  136.399994  136.399994   \n",
              "4854  2023-11-30  136.399994  136.960007  132.789993  133.919998  133.919998   \n",
              "4855  2023-12-01  133.320007  133.500000  132.151993  133.320007  133.320007   \n",
              "4856  2023-12-04  131.294006  131.449997  129.399994  130.630005  130.630005   \n",
              "4857  2023-12-05  130.369995  133.539993  129.729996  132.389999  132.389999   \n",
              "\n",
              "         Volume  \n",
              "0     897427216  \n",
              "1     458857488  \n",
              "2     366857939  \n",
              "3     306396159  \n",
              "4     184645512  \n",
              "...         ...  \n",
              "4853   21014700  \n",
              "4854   29913500  \n",
              "4855   24258400  \n",
              "4856   24117100  \n",
              "4857   19216500  \n",
              "\n",
              "[4858 rows x 7 columns]"
            ],
            "text/html": [
              "\n",
              "  <div id=\"df-00398000-100f-465f-a5f5-e20dd76c0dbf\" class=\"colab-df-container\">\n",
              "    <div>\n",
              "<style scoped>\n",
              "    .dataframe tbody tr th:only-of-type {\n",
              "        vertical-align: middle;\n",
              "    }\n",
              "\n",
              "    .dataframe tbody tr th {\n",
              "        vertical-align: top;\n",
              "    }\n",
              "\n",
              "    .dataframe thead th {\n",
              "        text-align: right;\n",
              "    }\n",
              "</style>\n",
              "<table border=\"1\" class=\"dataframe\">\n",
              "  <thead>\n",
              "    <tr style=\"text-align: right;\">\n",
              "      <th></th>\n",
              "      <th>Date</th>\n",
              "      <th>Open</th>\n",
              "      <th>High</th>\n",
              "      <th>Low</th>\n",
              "      <th>Close</th>\n",
              "      <th>Adj Close</th>\n",
              "      <th>Volume</th>\n",
              "    </tr>\n",
              "  </thead>\n",
              "  <tbody>\n",
              "    <tr>\n",
              "      <th>0</th>\n",
              "      <td>2004-08-19</td>\n",
              "      <td>2.490664</td>\n",
              "      <td>2.591785</td>\n",
              "      <td>2.390042</td>\n",
              "      <td>2.499133</td>\n",
              "      <td>2.499133</td>\n",
              "      <td>897427216</td>\n",
              "    </tr>\n",
              "    <tr>\n",
              "      <th>1</th>\n",
              "      <td>2004-08-20</td>\n",
              "      <td>2.515820</td>\n",
              "      <td>2.716817</td>\n",
              "      <td>2.503118</td>\n",
              "      <td>2.697639</td>\n",
              "      <td>2.697639</td>\n",
              "      <td>458857488</td>\n",
              "    </tr>\n",
              "    <tr>\n",
              "      <th>2</th>\n",
              "      <td>2004-08-23</td>\n",
              "      <td>2.758411</td>\n",
              "      <td>2.826406</td>\n",
              "      <td>2.716070</td>\n",
              "      <td>2.724787</td>\n",
              "      <td>2.724787</td>\n",
              "      <td>366857939</td>\n",
              "    </tr>\n",
              "    <tr>\n",
              "      <th>3</th>\n",
              "      <td>2004-08-24</td>\n",
              "      <td>2.770615</td>\n",
              "      <td>2.779581</td>\n",
              "      <td>2.579581</td>\n",
              "      <td>2.611960</td>\n",
              "      <td>2.611960</td>\n",
              "      <td>306396159</td>\n",
              "    </tr>\n",
              "    <tr>\n",
              "      <th>4</th>\n",
              "      <td>2004-08-25</td>\n",
              "      <td>2.614201</td>\n",
              "      <td>2.689918</td>\n",
              "      <td>2.587302</td>\n",
              "      <td>2.640104</td>\n",
              "      <td>2.640104</td>\n",
              "      <td>184645512</td>\n",
              "    </tr>\n",
              "    <tr>\n",
              "      <th>...</th>\n",
              "      <td>...</td>\n",
              "      <td>...</td>\n",
              "      <td>...</td>\n",
              "      <td>...</td>\n",
              "      <td>...</td>\n",
              "      <td>...</td>\n",
              "      <td>...</td>\n",
              "    </tr>\n",
              "    <tr>\n",
              "      <th>4853</th>\n",
              "      <td>2023-11-29</td>\n",
              "      <td>138.985001</td>\n",
              "      <td>139.669998</td>\n",
              "      <td>136.294998</td>\n",
              "      <td>136.399994</td>\n",
              "      <td>136.399994</td>\n",
              "      <td>21014700</td>\n",
              "    </tr>\n",
              "    <tr>\n",
              "      <th>4854</th>\n",
              "      <td>2023-11-30</td>\n",
              "      <td>136.399994</td>\n",
              "      <td>136.960007</td>\n",
              "      <td>132.789993</td>\n",
              "      <td>133.919998</td>\n",
              "      <td>133.919998</td>\n",
              "      <td>29913500</td>\n",
              "    </tr>\n",
              "    <tr>\n",
              "      <th>4855</th>\n",
              "      <td>2023-12-01</td>\n",
              "      <td>133.320007</td>\n",
              "      <td>133.500000</td>\n",
              "      <td>132.151993</td>\n",
              "      <td>133.320007</td>\n",
              "      <td>133.320007</td>\n",
              "      <td>24258400</td>\n",
              "    </tr>\n",
              "    <tr>\n",
              "      <th>4856</th>\n",
              "      <td>2023-12-04</td>\n",
              "      <td>131.294006</td>\n",
              "      <td>131.449997</td>\n",
              "      <td>129.399994</td>\n",
              "      <td>130.630005</td>\n",
              "      <td>130.630005</td>\n",
              "      <td>24117100</td>\n",
              "    </tr>\n",
              "    <tr>\n",
              "      <th>4857</th>\n",
              "      <td>2023-12-05</td>\n",
              "      <td>130.369995</td>\n",
              "      <td>133.539993</td>\n",
              "      <td>129.729996</td>\n",
              "      <td>132.389999</td>\n",
              "      <td>132.389999</td>\n",
              "      <td>19216500</td>\n",
              "    </tr>\n",
              "  </tbody>\n",
              "</table>\n",
              "<p>4858 rows × 7 columns</p>\n",
              "</div>\n",
              "    <div class=\"colab-df-buttons\">\n",
              "\n",
              "  <div class=\"colab-df-container\">\n",
              "    <button class=\"colab-df-convert\" onclick=\"convertToInteractive('df-00398000-100f-465f-a5f5-e20dd76c0dbf')\"\n",
              "            title=\"Convert this dataframe to an interactive table.\"\n",
              "            style=\"display:none;\">\n",
              "\n",
              "  <svg xmlns=\"http://www.w3.org/2000/svg\" height=\"24px\" viewBox=\"0 -960 960 960\">\n",
              "    <path d=\"M120-120v-720h720v720H120Zm60-500h600v-160H180v160Zm220 220h160v-160H400v160Zm0 220h160v-160H400v160ZM180-400h160v-160H180v160Zm440 0h160v-160H620v160ZM180-180h160v-160H180v160Zm440 0h160v-160H620v160Z\"/>\n",
              "  </svg>\n",
              "    </button>\n",
              "\n",
              "  <style>\n",
              "    .colab-df-container {\n",
              "      display:flex;\n",
              "      gap: 12px;\n",
              "    }\n",
              "\n",
              "    .colab-df-convert {\n",
              "      background-color: #E8F0FE;\n",
              "      border: none;\n",
              "      border-radius: 50%;\n",
              "      cursor: pointer;\n",
              "      display: none;\n",
              "      fill: #1967D2;\n",
              "      height: 32px;\n",
              "      padding: 0 0 0 0;\n",
              "      width: 32px;\n",
              "    }\n",
              "\n",
              "    .colab-df-convert:hover {\n",
              "      background-color: #E2EBFA;\n",
              "      box-shadow: 0px 1px 2px rgba(60, 64, 67, 0.3), 0px 1px 3px 1px rgba(60, 64, 67, 0.15);\n",
              "      fill: #174EA6;\n",
              "    }\n",
              "\n",
              "    .colab-df-buttons div {\n",
              "      margin-bottom: 4px;\n",
              "    }\n",
              "\n",
              "    [theme=dark] .colab-df-convert {\n",
              "      background-color: #3B4455;\n",
              "      fill: #D2E3FC;\n",
              "    }\n",
              "\n",
              "    [theme=dark] .colab-df-convert:hover {\n",
              "      background-color: #434B5C;\n",
              "      box-shadow: 0px 1px 3px 1px rgba(0, 0, 0, 0.15);\n",
              "      filter: drop-shadow(0px 1px 2px rgba(0, 0, 0, 0.3));\n",
              "      fill: #FFFFFF;\n",
              "    }\n",
              "  </style>\n",
              "\n",
              "    <script>\n",
              "      const buttonEl =\n",
              "        document.querySelector('#df-00398000-100f-465f-a5f5-e20dd76c0dbf button.colab-df-convert');\n",
              "      buttonEl.style.display =\n",
              "        google.colab.kernel.accessAllowed ? 'block' : 'none';\n",
              "\n",
              "      async function convertToInteractive(key) {\n",
              "        const element = document.querySelector('#df-00398000-100f-465f-a5f5-e20dd76c0dbf');\n",
              "        const dataTable =\n",
              "          await google.colab.kernel.invokeFunction('convertToInteractive',\n",
              "                                                    [key], {});\n",
              "        if (!dataTable) return;\n",
              "\n",
              "        const docLinkHtml = 'Like what you see? Visit the ' +\n",
              "          '<a target=\"_blank\" href=https://colab.research.google.com/notebooks/data_table.ipynb>data table notebook</a>'\n",
              "          + ' to learn more about interactive tables.';\n",
              "        element.innerHTML = '';\n",
              "        dataTable['output_type'] = 'display_data';\n",
              "        await google.colab.output.renderOutput(dataTable, element);\n",
              "        const docLink = document.createElement('div');\n",
              "        docLink.innerHTML = docLinkHtml;\n",
              "        element.appendChild(docLink);\n",
              "      }\n",
              "    </script>\n",
              "  </div>\n",
              "\n",
              "\n",
              "<div id=\"df-f0399f86-9fac-4e8e-8f7e-35c056e1c0f5\">\n",
              "  <button class=\"colab-df-quickchart\" onclick=\"quickchart('df-f0399f86-9fac-4e8e-8f7e-35c056e1c0f5')\"\n",
              "            title=\"Suggest charts\"\n",
              "            style=\"display:none;\">\n",
              "\n",
              "<svg xmlns=\"http://www.w3.org/2000/svg\" height=\"24px\"viewBox=\"0 0 24 24\"\n",
              "     width=\"24px\">\n",
              "    <g>\n",
              "        <path d=\"M19 3H5c-1.1 0-2 .9-2 2v14c0 1.1.9 2 2 2h14c1.1 0 2-.9 2-2V5c0-1.1-.9-2-2-2zM9 17H7v-7h2v7zm4 0h-2V7h2v10zm4 0h-2v-4h2v4z\"/>\n",
              "    </g>\n",
              "</svg>\n",
              "  </button>\n",
              "\n",
              "<style>\n",
              "  .colab-df-quickchart {\n",
              "      --bg-color: #E8F0FE;\n",
              "      --fill-color: #1967D2;\n",
              "      --hover-bg-color: #E2EBFA;\n",
              "      --hover-fill-color: #174EA6;\n",
              "      --disabled-fill-color: #AAA;\n",
              "      --disabled-bg-color: #DDD;\n",
              "  }\n",
              "\n",
              "  [theme=dark] .colab-df-quickchart {\n",
              "      --bg-color: #3B4455;\n",
              "      --fill-color: #D2E3FC;\n",
              "      --hover-bg-color: #434B5C;\n",
              "      --hover-fill-color: #FFFFFF;\n",
              "      --disabled-bg-color: #3B4455;\n",
              "      --disabled-fill-color: #666;\n",
              "  }\n",
              "\n",
              "  .colab-df-quickchart {\n",
              "    background-color: var(--bg-color);\n",
              "    border: none;\n",
              "    border-radius: 50%;\n",
              "    cursor: pointer;\n",
              "    display: none;\n",
              "    fill: var(--fill-color);\n",
              "    height: 32px;\n",
              "    padding: 0;\n",
              "    width: 32px;\n",
              "  }\n",
              "\n",
              "  .colab-df-quickchart:hover {\n",
              "    background-color: var(--hover-bg-color);\n",
              "    box-shadow: 0 1px 2px rgba(60, 64, 67, 0.3), 0 1px 3px 1px rgba(60, 64, 67, 0.15);\n",
              "    fill: var(--button-hover-fill-color);\n",
              "  }\n",
              "\n",
              "  .colab-df-quickchart-complete:disabled,\n",
              "  .colab-df-quickchart-complete:disabled:hover {\n",
              "    background-color: var(--disabled-bg-color);\n",
              "    fill: var(--disabled-fill-color);\n",
              "    box-shadow: none;\n",
              "  }\n",
              "\n",
              "  .colab-df-spinner {\n",
              "    border: 2px solid var(--fill-color);\n",
              "    border-color: transparent;\n",
              "    border-bottom-color: var(--fill-color);\n",
              "    animation:\n",
              "      spin 1s steps(1) infinite;\n",
              "  }\n",
              "\n",
              "  @keyframes spin {\n",
              "    0% {\n",
              "      border-color: transparent;\n",
              "      border-bottom-color: var(--fill-color);\n",
              "      border-left-color: var(--fill-color);\n",
              "    }\n",
              "    20% {\n",
              "      border-color: transparent;\n",
              "      border-left-color: var(--fill-color);\n",
              "      border-top-color: var(--fill-color);\n",
              "    }\n",
              "    30% {\n",
              "      border-color: transparent;\n",
              "      border-left-color: var(--fill-color);\n",
              "      border-top-color: var(--fill-color);\n",
              "      border-right-color: var(--fill-color);\n",
              "    }\n",
              "    40% {\n",
              "      border-color: transparent;\n",
              "      border-right-color: var(--fill-color);\n",
              "      border-top-color: var(--fill-color);\n",
              "    }\n",
              "    60% {\n",
              "      border-color: transparent;\n",
              "      border-right-color: var(--fill-color);\n",
              "    }\n",
              "    80% {\n",
              "      border-color: transparent;\n",
              "      border-right-color: var(--fill-color);\n",
              "      border-bottom-color: var(--fill-color);\n",
              "    }\n",
              "    90% {\n",
              "      border-color: transparent;\n",
              "      border-bottom-color: var(--fill-color);\n",
              "    }\n",
              "  }\n",
              "</style>\n",
              "\n",
              "  <script>\n",
              "    async function quickchart(key) {\n",
              "      const quickchartButtonEl =\n",
              "        document.querySelector('#' + key + ' button');\n",
              "      quickchartButtonEl.disabled = true;  // To prevent multiple clicks.\n",
              "      quickchartButtonEl.classList.add('colab-df-spinner');\n",
              "      try {\n",
              "        const charts = await google.colab.kernel.invokeFunction(\n",
              "            'suggestCharts', [key], {});\n",
              "      } catch (error) {\n",
              "        console.error('Error during call to suggestCharts:', error);\n",
              "      }\n",
              "      quickchartButtonEl.classList.remove('colab-df-spinner');\n",
              "      quickchartButtonEl.classList.add('colab-df-quickchart-complete');\n",
              "    }\n",
              "    (() => {\n",
              "      let quickchartButtonEl =\n",
              "        document.querySelector('#df-f0399f86-9fac-4e8e-8f7e-35c056e1c0f5 button');\n",
              "      quickchartButtonEl.style.display =\n",
              "        google.colab.kernel.accessAllowed ? 'block' : 'none';\n",
              "    })();\n",
              "  </script>\n",
              "</div>\n",
              "\n",
              "  <div id=\"id_2668f842-370f-4b19-bec0-91fa178e9b16\">\n",
              "    <style>\n",
              "      .colab-df-generate {\n",
              "        background-color: #E8F0FE;\n",
              "        border: none;\n",
              "        border-radius: 50%;\n",
              "        cursor: pointer;\n",
              "        display: none;\n",
              "        fill: #1967D2;\n",
              "        height: 32px;\n",
              "        padding: 0 0 0 0;\n",
              "        width: 32px;\n",
              "      }\n",
              "\n",
              "      .colab-df-generate:hover {\n",
              "        background-color: #E2EBFA;\n",
              "        box-shadow: 0px 1px 2px rgba(60, 64, 67, 0.3), 0px 1px 3px 1px rgba(60, 64, 67, 0.15);\n",
              "        fill: #174EA6;\n",
              "      }\n",
              "\n",
              "      [theme=dark] .colab-df-generate {\n",
              "        background-color: #3B4455;\n",
              "        fill: #D2E3FC;\n",
              "      }\n",
              "\n",
              "      [theme=dark] .colab-df-generate:hover {\n",
              "        background-color: #434B5C;\n",
              "        box-shadow: 0px 1px 3px 1px rgba(0, 0, 0, 0.15);\n",
              "        filter: drop-shadow(0px 1px 2px rgba(0, 0, 0, 0.3));\n",
              "        fill: #FFFFFF;\n",
              "      }\n",
              "    </style>\n",
              "    <button class=\"colab-df-generate\" onclick=\"generateWithVariable('data')\"\n",
              "            title=\"Generate code using this dataframe.\"\n",
              "            style=\"display:none;\">\n",
              "\n",
              "  <svg xmlns=\"http://www.w3.org/2000/svg\" height=\"24px\"viewBox=\"0 0 24 24\"\n",
              "       width=\"24px\">\n",
              "    <path d=\"M7,19H8.4L18.45,9,17,7.55,7,17.6ZM5,21V16.75L18.45,3.32a2,2,0,0,1,2.83,0l1.4,1.43a1.91,1.91,0,0,1,.58,1.4,1.91,1.91,0,0,1-.58,1.4L9.25,21ZM18.45,9,17,7.55Zm-12,3A5.31,5.31,0,0,0,4.9,8.1,5.31,5.31,0,0,0,1,6.5,5.31,5.31,0,0,0,4.9,4.9,5.31,5.31,0,0,0,6.5,1,5.31,5.31,0,0,0,8.1,4.9,5.31,5.31,0,0,0,12,6.5,5.46,5.46,0,0,0,6.5,12Z\"/>\n",
              "  </svg>\n",
              "    </button>\n",
              "    <script>\n",
              "      (() => {\n",
              "      const buttonEl =\n",
              "        document.querySelector('#id_2668f842-370f-4b19-bec0-91fa178e9b16 button.colab-df-generate');\n",
              "      buttonEl.style.display =\n",
              "        google.colab.kernel.accessAllowed ? 'block' : 'none';\n",
              "\n",
              "      buttonEl.onclick = () => {\n",
              "        google.colab.notebook.generateWithVariable('data');\n",
              "      }\n",
              "      })();\n",
              "    </script>\n",
              "  </div>\n",
              "\n",
              "    </div>\n",
              "  </div>\n"
            ],
            "application/vnd.google.colaboratory.intrinsic+json": {
              "type": "dataframe",
              "variable_name": "data",
              "summary": "{\n  \"name\": \"data\",\n  \"rows\": 4858,\n  \"fields\": [\n    {\n      \"column\": \"Date\",\n      \"properties\": {\n        \"dtype\": \"object\",\n        \"num_unique_values\": 4858,\n        \"samples\": [\n          \"2011-01-14\",\n          \"2023-05-30\",\n          \"2022-06-03\"\n        ],\n        \"semantic_type\": \"\",\n        \"description\": \"\"\n      }\n    },\n    {\n      \"column\": \"Open\",\n      \"properties\": {\n        \"dtype\": \"number\",\n        \"std\": 38.59069490475635,\n        \"min\": 2.47049,\n        \"max\": 151.863495,\n        \"num_unique_values\": 4713,\n        \"samples\": [\n          10.701389,\n          17.635647,\n          55.3475\n        ],\n        \"semantic_type\": \"\",\n        \"description\": \"\"\n      }\n    },\n    {\n      \"column\": \"High\",\n      \"properties\": {\n        \"dtype\": \"number\",\n        \"std\": 39.03175801989242,\n        \"min\": 2.534002,\n        \"max\": 152.100006,\n        \"num_unique_values\": 4712,\n        \"samples\": [\n          11.380095,\n          14.667273,\n          51.248501\n        ],\n        \"semantic_type\": \"\",\n        \"description\": \"\"\n      }\n    },\n    {\n      \"column\": \"Low\",\n      \"properties\": {\n        \"dtype\": \"number\",\n        \"std\": 38.193016014578305,\n        \"min\": 2.390042,\n        \"max\": 149.887497,\n        \"num_unique_values\": 4743,\n        \"samples\": [\n          27.458612,\n          57.750099,\n          16.958435\n        ],\n        \"semantic_type\": \"\",\n        \"description\": \"\"\n      }\n    },\n    {\n      \"column\": \"Close\",\n      \"properties\": {\n        \"dtype\": \"number\",\n        \"std\": 38.61810677354332,\n        \"min\": 2.490913,\n        \"max\": 150.709,\n        \"num_unique_values\": 4765,\n        \"samples\": [\n          13.295166,\n          50.323502,\n          27.483543\n        ],\n        \"semantic_type\": \"\",\n        \"description\": \"\"\n      }\n    },\n    {\n      \"column\": \"Adj Close\",\n      \"properties\": {\n        \"dtype\": \"number\",\n        \"std\": 38.61810677354332,\n        \"min\": 2.490913,\n        \"max\": 150.709,\n        \"num_unique_values\": 4765,\n        \"samples\": [\n          13.295166,\n          50.323502,\n          27.483543\n        ],\n        \"semantic_type\": \"\",\n        \"description\": \"\"\n      }\n    },\n    {\n      \"column\": \"Volume\",\n      \"properties\": {\n        \"dtype\": \"number\",\n        \"std\": 151242371,\n        \"min\": 158434,\n        \"max\": 1650832619,\n        \"num_unique_values\": 4747,\n        \"samples\": [\n          132791878,\n          40536000,\n          294559960\n        ],\n        \"semantic_type\": \"\",\n        \"description\": \"\"\n      }\n    }\n  ]\n}"
            }
          },
          "metadata": {},
          "execution_count": 93
        }
      ]
    },
    {
      "cell_type": "code",
      "source": [
        "data = data[['Date', 'Close']]"
      ],
      "metadata": {
        "id": "HWWN9Hw754Ai"
      },
      "execution_count": 94,
      "outputs": []
    },
    {
      "cell_type": "code",
      "source": [
        "data"
      ],
      "metadata": {
        "colab": {
          "base_uri": "https://localhost:8080/",
          "height": 424
        },
        "id": "H1__HwBeCwEo",
        "outputId": "8a3cfe34-8ea4-453a-9905-967ee512f71e"
      },
      "execution_count": 95,
      "outputs": [
        {
          "output_type": "execute_result",
          "data": {
            "text/plain": [
              "            Date       Close\n",
              "0     2004-08-19    2.499133\n",
              "1     2004-08-20    2.697639\n",
              "2     2004-08-23    2.724787\n",
              "3     2004-08-24    2.611960\n",
              "4     2004-08-25    2.640104\n",
              "...          ...         ...\n",
              "4853  2023-11-29  136.399994\n",
              "4854  2023-11-30  133.919998\n",
              "4855  2023-12-01  133.320007\n",
              "4856  2023-12-04  130.630005\n",
              "4857  2023-12-05  132.389999\n",
              "\n",
              "[4858 rows x 2 columns]"
            ],
            "text/html": [
              "\n",
              "  <div id=\"df-85a625b8-fd3c-4fc3-9b16-19fa0ce4ec7d\" class=\"colab-df-container\">\n",
              "    <div>\n",
              "<style scoped>\n",
              "    .dataframe tbody tr th:only-of-type {\n",
              "        vertical-align: middle;\n",
              "    }\n",
              "\n",
              "    .dataframe tbody tr th {\n",
              "        vertical-align: top;\n",
              "    }\n",
              "\n",
              "    .dataframe thead th {\n",
              "        text-align: right;\n",
              "    }\n",
              "</style>\n",
              "<table border=\"1\" class=\"dataframe\">\n",
              "  <thead>\n",
              "    <tr style=\"text-align: right;\">\n",
              "      <th></th>\n",
              "      <th>Date</th>\n",
              "      <th>Close</th>\n",
              "    </tr>\n",
              "  </thead>\n",
              "  <tbody>\n",
              "    <tr>\n",
              "      <th>0</th>\n",
              "      <td>2004-08-19</td>\n",
              "      <td>2.499133</td>\n",
              "    </tr>\n",
              "    <tr>\n",
              "      <th>1</th>\n",
              "      <td>2004-08-20</td>\n",
              "      <td>2.697639</td>\n",
              "    </tr>\n",
              "    <tr>\n",
              "      <th>2</th>\n",
              "      <td>2004-08-23</td>\n",
              "      <td>2.724787</td>\n",
              "    </tr>\n",
              "    <tr>\n",
              "      <th>3</th>\n",
              "      <td>2004-08-24</td>\n",
              "      <td>2.611960</td>\n",
              "    </tr>\n",
              "    <tr>\n",
              "      <th>4</th>\n",
              "      <td>2004-08-25</td>\n",
              "      <td>2.640104</td>\n",
              "    </tr>\n",
              "    <tr>\n",
              "      <th>...</th>\n",
              "      <td>...</td>\n",
              "      <td>...</td>\n",
              "    </tr>\n",
              "    <tr>\n",
              "      <th>4853</th>\n",
              "      <td>2023-11-29</td>\n",
              "      <td>136.399994</td>\n",
              "    </tr>\n",
              "    <tr>\n",
              "      <th>4854</th>\n",
              "      <td>2023-11-30</td>\n",
              "      <td>133.919998</td>\n",
              "    </tr>\n",
              "    <tr>\n",
              "      <th>4855</th>\n",
              "      <td>2023-12-01</td>\n",
              "      <td>133.320007</td>\n",
              "    </tr>\n",
              "    <tr>\n",
              "      <th>4856</th>\n",
              "      <td>2023-12-04</td>\n",
              "      <td>130.630005</td>\n",
              "    </tr>\n",
              "    <tr>\n",
              "      <th>4857</th>\n",
              "      <td>2023-12-05</td>\n",
              "      <td>132.389999</td>\n",
              "    </tr>\n",
              "  </tbody>\n",
              "</table>\n",
              "<p>4858 rows × 2 columns</p>\n",
              "</div>\n",
              "    <div class=\"colab-df-buttons\">\n",
              "\n",
              "  <div class=\"colab-df-container\">\n",
              "    <button class=\"colab-df-convert\" onclick=\"convertToInteractive('df-85a625b8-fd3c-4fc3-9b16-19fa0ce4ec7d')\"\n",
              "            title=\"Convert this dataframe to an interactive table.\"\n",
              "            style=\"display:none;\">\n",
              "\n",
              "  <svg xmlns=\"http://www.w3.org/2000/svg\" height=\"24px\" viewBox=\"0 -960 960 960\">\n",
              "    <path d=\"M120-120v-720h720v720H120Zm60-500h600v-160H180v160Zm220 220h160v-160H400v160Zm0 220h160v-160H400v160ZM180-400h160v-160H180v160Zm440 0h160v-160H620v160ZM180-180h160v-160H180v160Zm440 0h160v-160H620v160Z\"/>\n",
              "  </svg>\n",
              "    </button>\n",
              "\n",
              "  <style>\n",
              "    .colab-df-container {\n",
              "      display:flex;\n",
              "      gap: 12px;\n",
              "    }\n",
              "\n",
              "    .colab-df-convert {\n",
              "      background-color: #E8F0FE;\n",
              "      border: none;\n",
              "      border-radius: 50%;\n",
              "      cursor: pointer;\n",
              "      display: none;\n",
              "      fill: #1967D2;\n",
              "      height: 32px;\n",
              "      padding: 0 0 0 0;\n",
              "      width: 32px;\n",
              "    }\n",
              "\n",
              "    .colab-df-convert:hover {\n",
              "      background-color: #E2EBFA;\n",
              "      box-shadow: 0px 1px 2px rgba(60, 64, 67, 0.3), 0px 1px 3px 1px rgba(60, 64, 67, 0.15);\n",
              "      fill: #174EA6;\n",
              "    }\n",
              "\n",
              "    .colab-df-buttons div {\n",
              "      margin-bottom: 4px;\n",
              "    }\n",
              "\n",
              "    [theme=dark] .colab-df-convert {\n",
              "      background-color: #3B4455;\n",
              "      fill: #D2E3FC;\n",
              "    }\n",
              "\n",
              "    [theme=dark] .colab-df-convert:hover {\n",
              "      background-color: #434B5C;\n",
              "      box-shadow: 0px 1px 3px 1px rgba(0, 0, 0, 0.15);\n",
              "      filter: drop-shadow(0px 1px 2px rgba(0, 0, 0, 0.3));\n",
              "      fill: #FFFFFF;\n",
              "    }\n",
              "  </style>\n",
              "\n",
              "    <script>\n",
              "      const buttonEl =\n",
              "        document.querySelector('#df-85a625b8-fd3c-4fc3-9b16-19fa0ce4ec7d button.colab-df-convert');\n",
              "      buttonEl.style.display =\n",
              "        google.colab.kernel.accessAllowed ? 'block' : 'none';\n",
              "\n",
              "      async function convertToInteractive(key) {\n",
              "        const element = document.querySelector('#df-85a625b8-fd3c-4fc3-9b16-19fa0ce4ec7d');\n",
              "        const dataTable =\n",
              "          await google.colab.kernel.invokeFunction('convertToInteractive',\n",
              "                                                    [key], {});\n",
              "        if (!dataTable) return;\n",
              "\n",
              "        const docLinkHtml = 'Like what you see? Visit the ' +\n",
              "          '<a target=\"_blank\" href=https://colab.research.google.com/notebooks/data_table.ipynb>data table notebook</a>'\n",
              "          + ' to learn more about interactive tables.';\n",
              "        element.innerHTML = '';\n",
              "        dataTable['output_type'] = 'display_data';\n",
              "        await google.colab.output.renderOutput(dataTable, element);\n",
              "        const docLink = document.createElement('div');\n",
              "        docLink.innerHTML = docLinkHtml;\n",
              "        element.appendChild(docLink);\n",
              "      }\n",
              "    </script>\n",
              "  </div>\n",
              "\n",
              "\n",
              "<div id=\"df-d6b30c5d-2897-4a57-acae-748860ce9ddb\">\n",
              "  <button class=\"colab-df-quickchart\" onclick=\"quickchart('df-d6b30c5d-2897-4a57-acae-748860ce9ddb')\"\n",
              "            title=\"Suggest charts\"\n",
              "            style=\"display:none;\">\n",
              "\n",
              "<svg xmlns=\"http://www.w3.org/2000/svg\" height=\"24px\"viewBox=\"0 0 24 24\"\n",
              "     width=\"24px\">\n",
              "    <g>\n",
              "        <path d=\"M19 3H5c-1.1 0-2 .9-2 2v14c0 1.1.9 2 2 2h14c1.1 0 2-.9 2-2V5c0-1.1-.9-2-2-2zM9 17H7v-7h2v7zm4 0h-2V7h2v10zm4 0h-2v-4h2v4z\"/>\n",
              "    </g>\n",
              "</svg>\n",
              "  </button>\n",
              "\n",
              "<style>\n",
              "  .colab-df-quickchart {\n",
              "      --bg-color: #E8F0FE;\n",
              "      --fill-color: #1967D2;\n",
              "      --hover-bg-color: #E2EBFA;\n",
              "      --hover-fill-color: #174EA6;\n",
              "      --disabled-fill-color: #AAA;\n",
              "      --disabled-bg-color: #DDD;\n",
              "  }\n",
              "\n",
              "  [theme=dark] .colab-df-quickchart {\n",
              "      --bg-color: #3B4455;\n",
              "      --fill-color: #D2E3FC;\n",
              "      --hover-bg-color: #434B5C;\n",
              "      --hover-fill-color: #FFFFFF;\n",
              "      --disabled-bg-color: #3B4455;\n",
              "      --disabled-fill-color: #666;\n",
              "  }\n",
              "\n",
              "  .colab-df-quickchart {\n",
              "    background-color: var(--bg-color);\n",
              "    border: none;\n",
              "    border-radius: 50%;\n",
              "    cursor: pointer;\n",
              "    display: none;\n",
              "    fill: var(--fill-color);\n",
              "    height: 32px;\n",
              "    padding: 0;\n",
              "    width: 32px;\n",
              "  }\n",
              "\n",
              "  .colab-df-quickchart:hover {\n",
              "    background-color: var(--hover-bg-color);\n",
              "    box-shadow: 0 1px 2px rgba(60, 64, 67, 0.3), 0 1px 3px 1px rgba(60, 64, 67, 0.15);\n",
              "    fill: var(--button-hover-fill-color);\n",
              "  }\n",
              "\n",
              "  .colab-df-quickchart-complete:disabled,\n",
              "  .colab-df-quickchart-complete:disabled:hover {\n",
              "    background-color: var(--disabled-bg-color);\n",
              "    fill: var(--disabled-fill-color);\n",
              "    box-shadow: none;\n",
              "  }\n",
              "\n",
              "  .colab-df-spinner {\n",
              "    border: 2px solid var(--fill-color);\n",
              "    border-color: transparent;\n",
              "    border-bottom-color: var(--fill-color);\n",
              "    animation:\n",
              "      spin 1s steps(1) infinite;\n",
              "  }\n",
              "\n",
              "  @keyframes spin {\n",
              "    0% {\n",
              "      border-color: transparent;\n",
              "      border-bottom-color: var(--fill-color);\n",
              "      border-left-color: var(--fill-color);\n",
              "    }\n",
              "    20% {\n",
              "      border-color: transparent;\n",
              "      border-left-color: var(--fill-color);\n",
              "      border-top-color: var(--fill-color);\n",
              "    }\n",
              "    30% {\n",
              "      border-color: transparent;\n",
              "      border-left-color: var(--fill-color);\n",
              "      border-top-color: var(--fill-color);\n",
              "      border-right-color: var(--fill-color);\n",
              "    }\n",
              "    40% {\n",
              "      border-color: transparent;\n",
              "      border-right-color: var(--fill-color);\n",
              "      border-top-color: var(--fill-color);\n",
              "    }\n",
              "    60% {\n",
              "      border-color: transparent;\n",
              "      border-right-color: var(--fill-color);\n",
              "    }\n",
              "    80% {\n",
              "      border-color: transparent;\n",
              "      border-right-color: var(--fill-color);\n",
              "      border-bottom-color: var(--fill-color);\n",
              "    }\n",
              "    90% {\n",
              "      border-color: transparent;\n",
              "      border-bottom-color: var(--fill-color);\n",
              "    }\n",
              "  }\n",
              "</style>\n",
              "\n",
              "  <script>\n",
              "    async function quickchart(key) {\n",
              "      const quickchartButtonEl =\n",
              "        document.querySelector('#' + key + ' button');\n",
              "      quickchartButtonEl.disabled = true;  // To prevent multiple clicks.\n",
              "      quickchartButtonEl.classList.add('colab-df-spinner');\n",
              "      try {\n",
              "        const charts = await google.colab.kernel.invokeFunction(\n",
              "            'suggestCharts', [key], {});\n",
              "      } catch (error) {\n",
              "        console.error('Error during call to suggestCharts:', error);\n",
              "      }\n",
              "      quickchartButtonEl.classList.remove('colab-df-spinner');\n",
              "      quickchartButtonEl.classList.add('colab-df-quickchart-complete');\n",
              "    }\n",
              "    (() => {\n",
              "      let quickchartButtonEl =\n",
              "        document.querySelector('#df-d6b30c5d-2897-4a57-acae-748860ce9ddb button');\n",
              "      quickchartButtonEl.style.display =\n",
              "        google.colab.kernel.accessAllowed ? 'block' : 'none';\n",
              "    })();\n",
              "  </script>\n",
              "</div>\n",
              "\n",
              "  <div id=\"id_01394b5d-7471-427a-bab0-c0d61cbd26a8\">\n",
              "    <style>\n",
              "      .colab-df-generate {\n",
              "        background-color: #E8F0FE;\n",
              "        border: none;\n",
              "        border-radius: 50%;\n",
              "        cursor: pointer;\n",
              "        display: none;\n",
              "        fill: #1967D2;\n",
              "        height: 32px;\n",
              "        padding: 0 0 0 0;\n",
              "        width: 32px;\n",
              "      }\n",
              "\n",
              "      .colab-df-generate:hover {\n",
              "        background-color: #E2EBFA;\n",
              "        box-shadow: 0px 1px 2px rgba(60, 64, 67, 0.3), 0px 1px 3px 1px rgba(60, 64, 67, 0.15);\n",
              "        fill: #174EA6;\n",
              "      }\n",
              "\n",
              "      [theme=dark] .colab-df-generate {\n",
              "        background-color: #3B4455;\n",
              "        fill: #D2E3FC;\n",
              "      }\n",
              "\n",
              "      [theme=dark] .colab-df-generate:hover {\n",
              "        background-color: #434B5C;\n",
              "        box-shadow: 0px 1px 3px 1px rgba(0, 0, 0, 0.15);\n",
              "        filter: drop-shadow(0px 1px 2px rgba(0, 0, 0, 0.3));\n",
              "        fill: #FFFFFF;\n",
              "      }\n",
              "    </style>\n",
              "    <button class=\"colab-df-generate\" onclick=\"generateWithVariable('data')\"\n",
              "            title=\"Generate code using this dataframe.\"\n",
              "            style=\"display:none;\">\n",
              "\n",
              "  <svg xmlns=\"http://www.w3.org/2000/svg\" height=\"24px\"viewBox=\"0 0 24 24\"\n",
              "       width=\"24px\">\n",
              "    <path d=\"M7,19H8.4L18.45,9,17,7.55,7,17.6ZM5,21V16.75L18.45,3.32a2,2,0,0,1,2.83,0l1.4,1.43a1.91,1.91,0,0,1,.58,1.4,1.91,1.91,0,0,1-.58,1.4L9.25,21ZM18.45,9,17,7.55Zm-12,3A5.31,5.31,0,0,0,4.9,8.1,5.31,5.31,0,0,0,1,6.5,5.31,5.31,0,0,0,4.9,4.9,5.31,5.31,0,0,0,6.5,1,5.31,5.31,0,0,0,8.1,4.9,5.31,5.31,0,0,0,12,6.5,5.46,5.46,0,0,0,6.5,12Z\"/>\n",
              "  </svg>\n",
              "    </button>\n",
              "    <script>\n",
              "      (() => {\n",
              "      const buttonEl =\n",
              "        document.querySelector('#id_01394b5d-7471-427a-bab0-c0d61cbd26a8 button.colab-df-generate');\n",
              "      buttonEl.style.display =\n",
              "        google.colab.kernel.accessAllowed ? 'block' : 'none';\n",
              "\n",
              "      buttonEl.onclick = () => {\n",
              "        google.colab.notebook.generateWithVariable('data');\n",
              "      }\n",
              "      })();\n",
              "    </script>\n",
              "  </div>\n",
              "\n",
              "    </div>\n",
              "  </div>\n"
            ],
            "application/vnd.google.colaboratory.intrinsic+json": {
              "type": "dataframe",
              "variable_name": "data",
              "summary": "{\n  \"name\": \"data\",\n  \"rows\": 4858,\n  \"fields\": [\n    {\n      \"column\": \"Date\",\n      \"properties\": {\n        \"dtype\": \"object\",\n        \"num_unique_values\": 4858,\n        \"samples\": [\n          \"2011-01-14\",\n          \"2023-05-30\",\n          \"2022-06-03\"\n        ],\n        \"semantic_type\": \"\",\n        \"description\": \"\"\n      }\n    },\n    {\n      \"column\": \"Close\",\n      \"properties\": {\n        \"dtype\": \"number\",\n        \"std\": 38.61810677354332,\n        \"min\": 2.490913,\n        \"max\": 150.709,\n        \"num_unique_values\": 4765,\n        \"samples\": [\n          13.295166,\n          50.323502,\n          27.483543\n        ],\n        \"semantic_type\": \"\",\n        \"description\": \"\"\n      }\n    }\n  ]\n}"
            }
          },
          "metadata": {},
          "execution_count": 95
        }
      ]
    },
    {
      "cell_type": "markdown",
      "source": [
        "## Data preperation"
      ],
      "metadata": {
        "id": "c6IusKBAaOPL"
      }
    },
    {
      "cell_type": "code",
      "source": [
        "data['Date'] = pd.to_datetime(data['Date']) # convert the Date column from string to Date Time object\n",
        "\n",
        "plt.plot(data['Date'], data['Close']) # Plot the values"
      ],
      "metadata": {
        "colab": {
          "base_uri": "https://localhost:8080/",
          "height": 572
        },
        "id": "azFfXscOF2Rr",
        "outputId": "2d66f19a-da30-48e5-f6f3-e44cb3f3210e"
      },
      "execution_count": 96,
      "outputs": [
        {
          "output_type": "stream",
          "name": "stderr",
          "text": [
            "<ipython-input-96-15d0ea3caca6>:1: SettingWithCopyWarning: \n",
            "A value is trying to be set on a copy of a slice from a DataFrame.\n",
            "Try using .loc[row_indexer,col_indexer] = value instead\n",
            "\n",
            "See the caveats in the documentation: https://pandas.pydata.org/pandas-docs/stable/user_guide/indexing.html#returning-a-view-versus-a-copy\n",
            "  data['Date'] = pd.to_datetime(data['Date']) # convert the Date column from string to Date Time object\n"
          ]
        },
        {
          "output_type": "execute_result",
          "data": {
            "text/plain": [
              "[<matplotlib.lines.Line2D at 0x7c336c80bfd0>]"
            ]
          },
          "metadata": {},
          "execution_count": 96
        },
        {
          "output_type": "display_data",
          "data": {
            "text/plain": [
              "<Figure size 640x480 with 1 Axes>"
            ],
            "image/png": "[encoded data removed]"
          },
          "metadata": {}
        }
      ]
    },
    {
      "cell_type": "code",
      "source": [
        "def prepare_data(df, n):\n",
        "  df = deepcopy(df) # Create a deep copy\n",
        "\n",
        "  df.set_index('Date', inplace=True) # Set the index as the date column\n",
        "\n",
        "  for i in range(1, n+1):\n",
        "    df[f'Close(t-{i})'] = df['Close'].shift(i, axis=0) # Shift the data by n days for closing price\n",
        "\n",
        "  df.dropna(inplace=True)\n",
        "\n",
        "  return df"
      ],
      "metadata": {
        "id": "6P1biBdkXgRr"
      },
      "execution_count": 97,
      "outputs": []
    },
    {
      "cell_type": "code",
      "source": [
        "lookback = 7 # value for # of days to lookback\n",
        "shifted_data = prepare_data(data, lookback)"
      ],
      "metadata": {
        "id": "MhiwkAWlYP78"
      },
      "execution_count": 98,
      "outputs": []
    },
    {
      "cell_type": "code",
      "source": [
        "shifted_data"
      ],
      "metadata": {
        "colab": {
          "base_uri": "https://localhost:8080/",
          "height": 646
        },
        "id": "2Tdh04chYhrW",
        "outputId": "cdfc1b56-8ed1-4c1c-94b7-1b60a61ba15b"
      },
      "execution_count": 99,
      "outputs": [
        {
          "output_type": "execute_result",
          "data": {
            "text/plain": [
              "                 Close  Close(t-1)  Close(t-2)  Close(t-3)  Close(t-4)  \\\n",
              "Date                                                                     \n",
              "2004-08-30    2.540727    2.643840    2.687676    2.640104    2.611960   \n",
              "2004-08-31    2.549693    2.540727    2.643840    2.687676    2.640104   \n",
              "2004-09-01    2.496891    2.549693    2.540727    2.643840    2.687676   \n",
              "2004-09-02    2.528273    2.496891    2.549693    2.540727    2.643840   \n",
              "2004-09-03    2.490913    2.528273    2.496891    2.549693    2.540727   \n",
              "...                ...         ...         ...         ...         ...   \n",
              "2023-11-29  136.399994  138.619995  138.050003  138.220001  140.020004   \n",
              "2023-11-30  133.919998  136.399994  138.619995  138.050003  138.220001   \n",
              "2023-12-01  133.320007  133.919998  136.399994  138.619995  138.050003   \n",
              "2023-12-04  130.630005  133.320007  133.919998  136.399994  138.619995   \n",
              "2023-12-05  132.389999  130.630005  133.320007  133.919998  136.399994   \n",
              "\n",
              "            Close(t-5)  Close(t-6)  Close(t-7)  \n",
              "Date                                            \n",
              "2004-08-30    2.724787    2.697639    2.499133  \n",
              "2004-08-31    2.611960    2.724787    2.697639  \n",
              "2004-09-01    2.640104    2.611960    2.724787  \n",
              "2004-09-02    2.687676    2.640104    2.611960  \n",
              "2004-09-03    2.643840    2.687676    2.640104  \n",
              "...                ...         ...         ...  \n",
              "2023-11-29  138.619995  137.919998  136.940002  \n",
              "2023-11-30  140.020004  138.619995  137.919998  \n",
              "2023-12-01  138.220001  140.020004  138.619995  \n",
              "2023-12-04  138.050003  138.220001  140.020004  \n",
              "2023-12-05  138.619995  138.050003  138.220001  \n",
              "\n",
              "[4851 rows x 8 columns]"
            ],
            "text/html": [
              "\n",
              "  <div id=\"df-f109fd23-4c37-47b3-b2ad-ab55ed6cb757\" class=\"colab-df-container\">\n",
              "    <div>\n",
              "<style scoped>\n",
              "    .dataframe tbody tr th:only-of-type {\n",
              "        vertical-align: middle;\n",
              "    }\n",
              "\n",
              "    .dataframe tbody tr th {\n",
              "        vertical-align: top;\n",
              "    }\n",
              "\n",
              "    .dataframe thead th {\n",
              "        text-align: right;\n",
              "    }\n",
              "</style>\n",
              "<table border=\"1\" class=\"dataframe\">\n",
              "  <thead>\n",
              "    <tr style=\"text-align: right;\">\n",
              "      <th></th>\n",
              "      <th>Close</th>\n",
              "      <th>Close(t-1)</th>\n",
              "      <th>Close(t-2)</th>\n",
              "      <th>Close(t-3)</th>\n",
              "      <th>Close(t-4)</th>\n",
              "      <th>Close(t-5)</th>\n",
              "      <th>Close(t-6)</th>\n",
              "      <th>Close(t-7)</th>\n",
              "    </tr>\n",
              "    <tr>\n",
              "      <th>Date</th>\n",
              "      <th></th>\n",
              "      <th></th>\n",
              "      <th></th>\n",
              "      <th></th>\n",
              "      <th></th>\n",
              "      <th></th>\n",
              "      <th></th>\n",
              "      <th></th>\n",
              "    </tr>\n",
              "  </thead>\n",
              "  <tbody>\n",
              "    <tr>\n",
              "      <th>2004-08-30</th>\n",
              "      <td>2.540727</td>\n",
              "      <td>2.643840</td>\n",
              "      <td>2.687676</td>\n",
              "      <td>2.640104</td>\n",
              "      <td>2.611960</td>\n",
              "      <td>2.724787</td>\n",
              "      <td>2.697639</td>\n",
              "      <td>2.499133</td>\n",
              "    </tr>\n",
              "    <tr>\n",
              "      <th>2004-08-31</th>\n",
              "      <td>2.549693</td>\n",
              "      <td>2.540727</td>\n",
              "      <td>2.643840</td>\n",
              "      <td>2.687676</td>\n",
              "      <td>2.640104</td>\n",
              "      <td>2.611960</td>\n",
              "      <td>2.724787</td>\n",
              "      <td>2.697639</td>\n",
              "    </tr>\n",
              "    <tr>\n",
              "      <th>2004-09-01</th>\n",
              "      <td>2.496891</td>\n",
              "      <td>2.549693</td>\n",
              "      <td>2.540727</td>\n",
              "      <td>2.643840</td>\n",
              "      <td>2.687676</td>\n",
              "      <td>2.640104</td>\n",
              "      <td>2.611960</td>\n",
              "      <td>2.724787</td>\n",
              "    </tr>\n",
              "    <tr>\n",
              "      <th>2004-09-02</th>\n",
              "      <td>2.528273</td>\n",
              "      <td>2.496891</td>\n",
              "      <td>2.549693</td>\n",
              "      <td>2.540727</td>\n",
              "      <td>2.643840</td>\n",
              "      <td>2.687676</td>\n",
              "      <td>2.640104</td>\n",
              "      <td>2.611960</td>\n",
              "    </tr>\n",
              "    <tr>\n",
              "      <th>2004-09-03</th>\n",
              "      <td>2.490913</td>\n",
              "      <td>2.528273</td>\n",
              "      <td>2.496891</td>\n",
              "      <td>2.549693</td>\n",
              "      <td>2.540727</td>\n",
              "      <td>2.643840</td>\n",
              "      <td>2.687676</td>\n",
              "      <td>2.640104</td>\n",
              "    </tr>\n",
              "    <tr>\n",
              "      <th>...</th>\n",
              "      <td>...</td>\n",
              "      <td>...</td>\n",
              "      <td>...</td>\n",
              "      <td>...</td>\n",
              "      <td>...</td>\n",
              "      <td>...</td>\n",
              "      <td>...</td>\n",
              "      <td>...</td>\n",
              "    </tr>\n",
              "    <tr>\n",
              "      <th>2023-11-29</th>\n",
              "      <td>136.399994</td>\n",
              "      <td>138.619995</td>\n",
              "      <td>138.050003</td>\n",
              "      <td>138.220001</td>\n",
              "      <td>140.020004</td>\n",
              "      <td>138.619995</td>\n",
              "      <td>137.919998</td>\n",
              "      <td>136.940002</td>\n",
              "    </tr>\n",
              "    <tr>\n",
              "      <th>2023-11-30</th>\n",
              "      <td>133.919998</td>\n",
              "      <td>136.399994</td>\n",
              "      <td>138.619995</td>\n",
              "      <td>138.050003</td>\n",
              "      <td>138.220001</td>\n",
              "      <td>140.020004</td>\n",
              "      <td>138.619995</td>\n",
              "      <td>137.919998</td>\n",
              "    </tr>\n",
              "    <tr>\n",
              "      <th>2023-12-01</th>\n",
              "      <td>133.320007</td>\n",
              "      <td>133.919998</td>\n",
              "      <td>136.399994</td>\n",
              "      <td>138.619995</td>\n",
              "      <td>138.050003</td>\n",
              "      <td>138.220001</td>\n",
              "      <td>140.020004</td>\n",
              "      <td>138.619995</td>\n",
              "    </tr>\n",
              "    <tr>\n",
              "      <th>2023-12-04</th>\n",
              "      <td>130.630005</td>\n",
              "      <td>133.320007</td>\n",
              "      <td>133.919998</td>\n",
              "      <td>136.399994</td>\n",
              "      <td>138.619995</td>\n",
              "      <td>138.050003</td>\n",
              "      <td>138.220001</td>\n",
              "      <td>140.020004</td>\n",
              "    </tr>\n",
              "    <tr>\n",
              "      <th>2023-12-05</th>\n",
              "      <td>132.389999</td>\n",
              "      <td>130.630005</td>\n",
              "      <td>133.320007</td>\n",
              "      <td>133.919998</td>\n",
              "      <td>136.399994</td>\n",
              "      <td>138.619995</td>\n",
              "      <td>138.050003</td>\n",
              "      <td>138.220001</td>\n",
              "    </tr>\n",
              "  </tbody>\n",
              "</table>\n",
              "<p>4851 rows × 8 columns</p>\n",
              "</div>\n",
              "    <div class=\"colab-df-buttons\">\n",
              "\n",
              "  <div class=\"colab-df-container\">\n",
              "    <button class=\"colab-df-convert\" onclick=\"convertToInteractive('df-f109fd23-4c37-47b3-b2ad-ab55ed6cb757')\"\n",
              "            title=\"Convert this dataframe to an interactive table.\"\n",
              "            style=\"display:none;\">\n",
              "\n",
              "  <svg xmlns=\"http://www.w3.org/2000/svg\" height=\"24px\" viewBox=\"0 -960 960 960\">\n",
              "    <path d=\"M120-120v-720h720v720H120Zm60-500h600v-160H180v160Zm220 220h160v-160H400v160Zm0 220h160v-160H400v160ZM180-400h160v-160H180v160Zm440 0h160v-160H620v160ZM180-180h160v-160H180v160Zm440 0h160v-160H620v160Z\"/>\n",
              "  </svg>\n",
              "    </button>\n",
              "\n",
              "  <style>\n",
              "    .colab-df-container {\n",
              "      display:flex;\n",
              "      gap: 12px;\n",
              "    }\n",
              "\n",
              "    .colab-df-convert {\n",
              "      background-color: #E8F0FE;\n",
              "      border: none;\n",
              "      border-radius: 50%;\n",
              "      cursor: pointer;\n",
              "      display: none;\n",
              "      fill: #1967D2;\n",
              "      height: 32px;\n",
              "      padding: 0 0 0 0;\n",
              "      width: 32px;\n",
              "    }\n",
              "\n",
              "    .colab-df-convert:hover {\n",
              "      background-color: #E2EBFA;\n",
              "      box-shadow: 0px 1px 2px rgba(60, 64, 67, 0.3), 0px 1px 3px 1px rgba(60, 64, 67, 0.15);\n",
              "      fill: #174EA6;\n",
              "    }\n",
              "\n",
              "    .colab-df-buttons div {\n",
              "      margin-bottom: 4px;\n",
              "    }\n",
              "\n",
              "    [theme=dark] .colab-df-convert {\n",
              "      background-color: #3B4455;\n",
              "      fill: #D2E3FC;\n",
              "    }\n",
              "\n",
              "    [theme=dark] .colab-df-convert:hover {\n",
              "      background-color: #434B5C;\n",
              "      box-shadow: 0px 1px 3px 1px rgba(0, 0, 0, 0.15);\n",
              "      filter: drop-shadow(0px 1px 2px rgba(0, 0, 0, 0.3));\n",
              "      fill: #FFFFFF;\n",
              "    }\n",
              "  </style>\n",
              "\n",
              "    <script>\n",
              "      const buttonEl =\n",
              "        document.querySelector('#df-f109fd23-4c37-47b3-b2ad-ab55ed6cb757 button.colab-df-convert');\n",
              "      buttonEl.style.display =\n",
              "        google.colab.kernel.accessAllowed ? 'block' : 'none';\n",
              "\n",
              "      async function convertToInteractive(key) {\n",
              "        const element = document.querySelector('#df-f109fd23-4c37-47b3-b2ad-ab55ed6cb757');\n",
              "        const dataTable =\n",
              "          await google.colab.kernel.invokeFunction('convertToInteractive',\n",
              "                                                    [key], {});\n",
              "        if (!dataTable) return;\n",
              "\n",
              "        const docLinkHtml = 'Like what you see? Visit the ' +\n",
              "          '<a target=\"_blank\" href=https://colab.research.google.com/notebooks/data_table.ipynb>data table notebook</a>'\n",
              "          + ' to learn more about interactive tables.';\n",
              "        element.innerHTML = '';\n",
              "        dataTable['output_type'] = 'display_data';\n",
              "        await google.colab.output.renderOutput(dataTable, element);\n",
              "        const docLink = document.createElement('div');\n",
              "        docLink.innerHTML = docLinkHtml;\n",
              "        element.appendChild(docLink);\n",
              "      }\n",
              "    </script>\n",
              "  </div>\n",
              "\n",
              "\n",
              "<div id=\"df-77f74f7e-c39e-4d7a-9201-df1c78ce9dd9\">\n",
              "  <button class=\"colab-df-quickchart\" onclick=\"quickchart('df-77f74f7e-c39e-4d7a-9201-df1c78ce9dd9')\"\n",
              "            title=\"Suggest charts\"\n",
              "            style=\"display:none;\">\n",
              "\n",
              "<svg xmlns=\"http://www.w3.org/2000/svg\" height=\"24px\"viewBox=\"0 0 24 24\"\n",
              "     width=\"24px\">\n",
              "    <g>\n",
              "        <path d=\"M19 3H5c-1.1 0-2 .9-2 2v14c0 1.1.9 2 2 2h14c1.1 0 2-.9 2-2V5c0-1.1-.9-2-2-2zM9 17H7v-7h2v7zm4 0h-2V7h2v10zm4 0h-2v-4h2v4z\"/>\n",
              "    </g>\n",
              "</svg>\n",
              "  </button>\n",
              "\n",
              "<style>\n",
              "  .colab-df-quickchart {\n",
              "      --bg-color: #E8F0FE;\n",
              "      --fill-color: #1967D2;\n",
              "      --hover-bg-color: #E2EBFA;\n",
              "      --hover-fill-color: #174EA6;\n",
              "      --disabled-fill-color: #AAA;\n",
              "      --disabled-bg-color: #DDD;\n",
              "  }\n",
              "\n",
              "  [theme=dark] .colab-df-quickchart {\n",
              "      --bg-color: #3B4455;\n",
              "      --fill-color: #D2E3FC;\n",
              "      --hover-bg-color: #434B5C;\n",
              "      --hover-fill-color: #FFFFFF;\n",
              "      --disabled-bg-color: #3B4455;\n",
              "      --disabled-fill-color: #666;\n",
              "  }\n",
              "\n",
              "  .colab-df-quickchart {\n",
              "    background-color: var(--bg-color);\n",
              "    border: none;\n",
              "    border-radius: 50%;\n",
              "    cursor: pointer;\n",
              "    display: none;\n",
              "    fill: var(--fill-color);\n",
              "    height: 32px;\n",
              "    padding: 0;\n",
              "    width: 32px;\n",
              "  }\n",
              "\n",
              "  .colab-df-quickchart:hover {\n",
              "    background-color: var(--hover-bg-color);\n",
              "    box-shadow: 0 1px 2px rgba(60, 64, 67, 0.3), 0 1px 3px 1px rgba(60, 64, 67, 0.15);\n",
              "    fill: var(--button-hover-fill-color);\n",
              "  }\n",
              "\n",
              "  .colab-df-quickchart-complete:disabled,\n",
              "  .colab-df-quickchart-complete:disabled:hover {\n",
              "    background-color: var(--disabled-bg-color);\n",
              "    fill: var(--disabled-fill-color);\n",
              "    box-shadow: none;\n",
              "  }\n",
              "\n",
              "  .colab-df-spinner {\n",
              "    border: 2px solid var(--fill-color);\n",
              "    border-color: transparent;\n",
              "    border-bottom-color: var(--fill-color);\n",
              "    animation:\n",
              "      spin 1s steps(1) infinite;\n",
              "  }\n",
              "\n",
              "  @keyframes spin {\n",
              "    0% {\n",
              "      border-color: transparent;\n",
              "      border-bottom-color: var(--fill-color);\n",
              "      border-left-color: var(--fill-color);\n",
              "    }\n",
              "    20% {\n",
              "      border-color: transparent;\n",
              "      border-left-color: var(--fill-color);\n",
              "      border-top-color: var(--fill-color);\n",
              "    }\n",
              "    30% {\n",
              "      border-color: transparent;\n",
              "      border-left-color: var(--fill-color);\n",
              "      border-top-color: var(--fill-color);\n",
              "      border-right-color: var(--fill-color);\n",
              "    }\n",
              "    40% {\n",
              "      border-color: transparent;\n",
              "      border-right-color: var(--fill-color);\n",
              "      border-top-color: var(--fill-color);\n",
              "    }\n",
              "    60% {\n",
              "      border-color: transparent;\n",
              "      border-right-color: var(--fill-color);\n",
              "    }\n",
              "    80% {\n",
              "      border-color: transparent;\n",
              "      border-right-color: var(--fill-color);\n",
              "      border-bottom-color: var(--fill-color);\n",
              "    }\n",
              "    90% {\n",
              "      border-color: transparent;\n",
              "      border-bottom-color: var(--fill-color);\n",
              "    }\n",
              "  }\n",
              "</style>\n",
              "\n",
              "  <script>\n",
              "    async function quickchart(key) {\n",
              "      const quickchartButtonEl =\n",
              "        document.querySelector('#' + key + ' button');\n",
              "      quickchartButtonEl.disabled = true;  // To prevent multiple clicks.\n",
              "      quickchartButtonEl.classList.add('colab-df-spinner');\n",
              "      try {\n",
              "        const charts = await google.colab.kernel.invokeFunction(\n",
              "            'suggestCharts', [key], {});\n",
              "      } catch (error) {\n",
              "        console.error('Error during call to suggestCharts:', error);\n",
              "      }\n",
              "      quickchartButtonEl.classList.remove('colab-df-spinner');\n",
              "      quickchartButtonEl.classList.add('colab-df-quickchart-complete');\n",
              "    }\n",
              "    (() => {\n",
              "      let quickchartButtonEl =\n",
              "        document.querySelector('#df-77f74f7e-c39e-4d7a-9201-df1c78ce9dd9 button');\n",
              "      quickchartButtonEl.style.display =\n",
              "        google.colab.kernel.accessAllowed ? 'block' : 'none';\n",
              "    })();\n",
              "  </script>\n",
              "</div>\n",
              "\n",
              "  <div id=\"id_4b7e0023-708c-46e7-b900-95b69dfb6513\">\n",
              "    <style>\n",
              "      .colab-df-generate {\n",
              "        background-color: #E8F0FE;\n",
              "        border: none;\n",
              "        border-radius: 50%;\n",
              "        cursor: pointer;\n",
              "        display: none;\n",
              "        fill: #1967D2;\n",
              "        height: 32px;\n",
              "        padding: 0 0 0 0;\n",
              "        width: 32px;\n",
              "      }\n",
              "\n",
              "      .colab-df-generate:hover {\n",
              "        background-color: #E2EBFA;\n",
              "        box-shadow: 0px 1px 2px rgba(60, 64, 67, 0.3), 0px 1px 3px 1px rgba(60, 64, 67, 0.15);\n",
              "        fill: #174EA6;\n",
              "      }\n",
              "\n",
              "      [theme=dark] .colab-df-generate {\n",
              "        background-color: #3B4455;\n",
              "        fill: #D2E3FC;\n",
              "      }\n",
              "\n",
              "      [theme=dark] .colab-df-generate:hover {\n",
              "        background-color: #434B5C;\n",
              "        box-shadow: 0px 1px 3px 1px rgba(0, 0, 0, 0.15);\n",
              "        filter: drop-shadow(0px 1px 2px rgba(0, 0, 0, 0.3));\n",
              "        fill: #FFFFFF;\n",
              "      }\n",
              "    </style>\n",
              "    <button class=\"colab-df-generate\" onclick=\"generateWithVariable('shifted_data')\"\n",
              "            title=\"Generate code using this dataframe.\"\n",
              "            style=\"display:none;\">\n",
              "\n",
              "  <svg xmlns=\"http://www.w3.org/2000/svg\" height=\"24px\"viewBox=\"0 0 24 24\"\n",
              "       width=\"24px\">\n",
              "    <path d=\"M7,19H8.4L18.45,9,17,7.55,7,17.6ZM5,21V16.75L18.45,3.32a2,2,0,0,1,2.83,0l1.4,1.43a1.91,1.91,0,0,1,.58,1.4,1.91,1.91,0,0,1-.58,1.4L9.25,21ZM18.45,9,17,7.55Zm-12,3A5.31,5.31,0,0,0,4.9,8.1,5.31,5.31,0,0,0,1,6.5,5.31,5.31,0,0,0,4.9,4.9,5.31,5.31,0,0,0,6.5,1,5.31,5.31,0,0,0,8.1,4.9,5.31,5.31,0,0,0,12,6.5,5.46,5.46,0,0,0,6.5,12Z\"/>\n",
              "  </svg>\n",
              "    </button>\n",
              "    <script>\n",
              "      (() => {\n",
              "      const buttonEl =\n",
              "        document.querySelector('#id_4b7e0023-708c-46e7-b900-95b69dfb6513 button.colab-df-generate');\n",
              "      buttonEl.style.display =\n",
              "        google.colab.kernel.accessAllowed ? 'block' : 'none';\n",
              "\n",
              "      buttonEl.onclick = () => {\n",
              "        google.colab.notebook.generateWithVariable('shifted_data');\n",
              "      }\n",
              "      })();\n",
              "    </script>\n",
              "  </div>\n",
              "\n",
              "    </div>\n",
              "  </div>\n"
            ],
            "application/vnd.google.colaboratory.intrinsic+json": {
              "type": "dataframe",
              "variable_name": "shifted_data",
              "summary": "{\n  \"name\": \"shifted_data\",\n  \"rows\": 4851,\n  \"fields\": [\n    {\n      \"column\": \"Date\",\n      \"properties\": {\n        \"dtype\": \"date\",\n        \"min\": \"2004-08-30 00:00:00\",\n        \"max\": \"2023-12-05 00:00:00\",\n        \"num_unique_values\": 4851,\n        \"samples\": [\n          \"2017-05-30 00:00:00\",\n          \"2011-05-06 00:00:00\",\n          \"2008-10-21 00:00:00\"\n        ],\n        \"semantic_type\": \"\",\n        \"description\": \"\"\n      }\n    },\n    {\n      \"column\": \"Close\",\n      \"properties\": {\n        \"dtype\": \"number\",\n        \"std\": 38.617729105868726,\n        \"min\": 2.490913,\n        \"max\": 150.709,\n        \"num_unique_values\": 4758,\n        \"samples\": [\n          28.278753,\n          10.075734,\n          29.982368\n        ],\n        \"semantic_type\": \"\",\n        \"description\": \"\"\n      }\n    },\n    {\n      \"column\": \"Close(t-1)\",\n      \"properties\": {\n        \"dtype\": \"number\",\n        \"std\": 38.59972782012323,\n        \"min\": 2.490913,\n        \"max\": 150.709,\n        \"num_unique_values\": 4758,\n        \"samples\": [\n          27.569662,\n          10.108361,\n          29.990339\n        ],\n        \"semantic_type\": \"\",\n        \"description\": \"\"\n      }\n    },\n    {\n      \"column\": \"Close(t-2)\",\n      \"properties\": {\n        \"dtype\": \"number\",\n        \"std\": 38.582537112044136,\n        \"min\": 2.490913,\n        \"max\": 150.709,\n        \"num_unique_values\": 4758,\n        \"samples\": [\n          27.970409,\n          10.403505,\n          29.946255\n        ],\n        \"semantic_type\": \"\",\n        \"description\": \"\"\n      }\n    },\n    {\n      \"column\": \"Close(t-3)\",\n      \"properties\": {\n        \"dtype\": \"number\",\n        \"std\": 38.564028931638674,\n        \"min\": 2.490913,\n        \"max\": 150.709,\n        \"num_unique_values\": 4758,\n        \"samples\": [\n          27.427942,\n          10.313592,\n          30.158957\n        ],\n        \"semantic_type\": \"\",\n        \"description\": \"\"\n      }\n    },\n    {\n      \"column\": \"Close(t-4)\",\n      \"properties\": {\n        \"dtype\": \"number\",\n        \"std\": 38.54520304074473,\n        \"min\": 2.490913,\n        \"max\": 150.709,\n        \"num_unique_values\": 4758,\n        \"samples\": [\n          27.990833,\n          10.084949,\n          29.95771\n        ],\n        \"semantic_type\": \"\",\n        \"description\": \"\"\n      }\n    },\n    {\n      \"column\": \"Close(t-5)\",\n      \"properties\": {\n        \"dtype\": \"number\",\n        \"std\": 38.525081298016666,\n        \"min\": 2.490913,\n        \"max\": 150.709,\n        \"num_unique_values\": 4758,\n        \"samples\": [\n          28.894197,\n          10.050827,\n          29.885483\n        ],\n        \"semantic_type\": \"\",\n        \"description\": \"\"\n      }\n    },\n    {\n      \"column\": \"Close(t-6)\",\n      \"properties\": {\n        \"dtype\": \"number\",\n        \"std\": 38.50379225878706,\n        \"min\": 2.490913,\n        \"max\": 150.709,\n        \"num_unique_values\": 4759,\n        \"samples\": [\n          28.894197,\n          10.547466,\n          29.885483\n        ],\n        \"semantic_type\": \"\",\n        \"description\": \"\"\n      }\n    },\n    {\n      \"column\": \"Close(t-7)\",\n      \"properties\": {\n        \"dtype\": \"number\",\n        \"std\": 38.48280841992617,\n        \"min\": 2.490913,\n        \"max\": 150.709,\n        \"num_unique_values\": 4759,\n        \"samples\": [\n          29.016739,\n          10.675486,\n          29.556465\n        ],\n        \"semantic_type\": \"\",\n        \"description\": \"\"\n      }\n    }\n  ]\n}"
            }
          },
          "metadata": {},
          "execution_count": 99
        }
      ]
    },
    {
      "cell_type": "code",
      "source": [
        "# Convert the dataframe to a numpy array\n",
        "shifted_data_np = shifted_data.to_numpy()"
      ],
      "metadata": {
        "id": "aojnUEVMYiQD"
      },
      "execution_count": 100,
      "outputs": []
    },
    {
      "cell_type": "code",
      "source": [
        "# Scale data using MinMaxScaler\n",
        "\n",
        "scaler = MinMaxScaler(feature_range=(-1,1))\n",
        "shifted_data_np = scaler.fit_transform(shifted_data_np)\n",
        "\n",
        "shifted_data_np"
      ],
      "metadata": {
        "colab": {
          "base_uri": "https://localhost:8080/"
        },
        "id": "RcroOs3aZ_QA",
        "outputId": "45d54b0c-8bdc-40d7-a71f-2cdb5f98c3f0"
      },
      "execution_count": 101,
      "outputs": [
        {
          "output_type": "execute_result",
          "data": {
            "text/plain": [
              "array([[-0.99932783, -0.99793646, -0.99734495, ..., -0.99684419,\n",
              "        -0.99721052, -0.99988908],\n",
              "       [-0.99920684, -0.99932783, -0.99793646, ..., -0.99836664,\n",
              "        -0.99684419, -0.99721052],\n",
              "       [-0.99991934, -0.99920684, -0.99932783, ..., -0.99798687,\n",
              "        -0.99836664, -0.99684419],\n",
              "       ...,\n",
              "       [ 0.76535937,  0.77345542,  0.80691957, ...,  0.83147807,\n",
              "         0.85576664,  0.83687544],\n",
              "       [ 0.72906147,  0.76535937,  0.77345542, ...,  0.82918418,\n",
              "         0.83147807,  0.85576664],\n",
              "       [ 0.75281018,  0.72906147,  0.76535937, ...,  0.83687544,\n",
              "         0.82918418,  0.83147807]])"
            ]
          },
          "metadata": {},
          "execution_count": 101
        }
      ]
    },
    {
      "cell_type": "code",
      "source": [
        "# Features and labels\n",
        "X = shifted_data_np[:,1:]\n",
        "y = shifted_data_np[:,0]\n",
        "\n",
        "X.shape, y.shape"
      ],
      "metadata": {
        "colab": {
          "base_uri": "https://localhost:8080/"
        },
        "id": "QwiyDkXpbL7w",
        "outputId": "0ce793f3-cd85-4a6b-ab3e-dc9201dc7a6f"
      },
      "execution_count": 102,
      "outputs": [
        {
          "output_type": "execute_result",
          "data": {
            "text/plain": [
              "((4851, 7), (4851,))"
            ]
          },
          "metadata": {},
          "execution_count": 102
        }
      ]
    },
    {
      "cell_type": "code",
      "source": [
        "# Flip the data so that it goes from t-7,...t-1 i.e oldest to newest\n",
        "X = deepcopy(np.flip(X, axis=1))\n",
        "X"
      ],
      "metadata": {
        "colab": {
          "base_uri": "https://localhost:8080/"
        },
        "id": "9FN-H7vlblr9",
        "outputId": "bf857e9b-ed80-46f6-a31f-326d5f0da404"
      },
      "execution_count": 103,
      "outputs": [
        {
          "output_type": "execute_result",
          "data": {
            "text/plain": [
              "array([[-0.99988908, -0.99721052, -0.99684419, ..., -0.99798687,\n",
              "        -0.99734495, -0.99793646],\n",
              "       [-0.99721052, -0.99684419, -0.99836664, ..., -0.99734495,\n",
              "        -0.99793646, -0.99932783],\n",
              "       [-0.99684419, -0.99836664, -0.99798687, ..., -0.99793646,\n",
              "        -0.99932783, -0.99920684],\n",
              "       ...,\n",
              "       [ 0.83687544,  0.85576664,  0.83147807, ...,  0.83687544,\n",
              "         0.80691957,  0.77345542],\n",
              "       [ 0.85576664,  0.83147807,  0.82918418, ...,  0.80691957,\n",
              "         0.77345542,  0.76535937],\n",
              "       [ 0.83147807,  0.82918418,  0.83687544, ...,  0.77345542,\n",
              "         0.76535937,  0.72906147]])"
            ]
          },
          "metadata": {},
          "execution_count": 103
        }
      ]
    },
    {
      "cell_type": "code",
      "source": [
        "# Split index\n",
        "split_index = int(len(X)*0.95) # 95% of the data for training and 5% for testing\n",
        "split_index"
      ],
      "metadata": {
        "colab": {
          "base_uri": "https://localhost:8080/"
        },
        "id": "YfBtx8E4cBXt",
        "outputId": "69e63b67-9198-4f14-e8b4-8c7d3048c518"
      },
      "execution_count": 104,
      "outputs": [
        {
          "output_type": "execute_result",
          "data": {
            "text/plain": [
              "4608"
            ]
          },
          "metadata": {},
          "execution_count": 104
        }
      ]
    },
    {
      "cell_type": "code",
      "source": [
        "# Splitting into training and testing data\n",
        "\n",
        "# Train\n",
        "X_train = X[:split_index]\n",
        "y_train = y[:split_index]\n",
        "\n",
        "# Test\n",
        "X_test = X[split_index:]\n",
        "y_test = y[split_index:]\n",
        "\n",
        "X_train.shape, X_test.shape, y_train.shape, y_test.shape"
      ],
      "metadata": {
        "colab": {
          "base_uri": "https://localhost:8080/"
        },
        "id": "e7K--UUReEFA",
        "outputId": "08a67a0e-2f2d-4d74-e88b-e484063dbb15"
      },
      "execution_count": 105,
      "outputs": [
        {
          "output_type": "execute_result",
          "data": {
            "text/plain": [
              "((4608, 7), (243, 7), (4608,), (243,))"
            ]
          },
          "metadata": {},
          "execution_count": 105
        }
      ]
    },
    {
      "cell_type": "code",
      "source": [
        "# Adding an extradimension at the end for pytorch LSTMs\n",
        "\n",
        "X_train = X_train.reshape((-1, lookback, 1))\n",
        "X_test = X_test.reshape((-1, lookback, 1))\n",
        "\n",
        "y_train = y_train.reshape((-1, 1))\n",
        "y_test = y_test.reshape((-1, 1))\n",
        "\n",
        "X_train.shape, X_test.shape, y_train.shape, y_test.shape"
      ],
      "metadata": {
        "colab": {
          "base_uri": "https://localhost:8080/"
        },
        "id": "jdNuLWsKeOmO",
        "outputId": "af84296d-9d97-4423-aa7c-d06007e7b53e"
      },
      "execution_count": 106,
      "outputs": [
        {
          "output_type": "execute_result",
          "data": {
            "text/plain": [
              "((4608, 7, 1), (243, 7, 1), (4608, 1), (243, 1))"
            ]
          },
          "metadata": {},
          "execution_count": 106
        }
      ]
    },
    {
      "cell_type": "code",
      "source": [
        "# Converting numpy arrays into tensors\n",
        "\n",
        "X_train = torch.tensor(X_train).float()\n",
        "X_test = torch.tensor(X_test).float()\n",
        "\n",
        "\n",
        "y_train = torch.tensor(y_train).float()\n",
        "y_test = torch.tensor(y_test).float()\n",
        "\n",
        "X_train.shape, X_test.shape, y_train.shape, y_test.shape"
      ],
      "metadata": {
        "colab": {
          "base_uri": "https://localhost:8080/"
        },
        "id": "-P7E1-MvfJiw",
        "outputId": "23aa684b-064d-4715-958a-9c260a161fdc"
      },
      "execution_count": 107,
      "outputs": [
        {
          "output_type": "execute_result",
          "data": {
            "text/plain": [
              "(torch.Size([4608, 7, 1]),\n",
              " torch.Size([243, 7, 1]),\n",
              " torch.Size([4608, 1]),\n",
              " torch.Size([243, 1]))"
            ]
          },
          "metadata": {},
          "execution_count": 107
        }
      ]
    },
    {
      "cell_type": "code",
      "source": [
        "# Make a custom dataset class\n",
        "\n",
        "class CustomDataset(Dataset):\n",
        "  def __init__(self, X, y):\n",
        "    self.X = X\n",
        "    self.y = y\n",
        "\n",
        "  def __len__(self):\n",
        "    return len(self.X)\n",
        "\n",
        "  def __getitem__(self, idx):\n",
        "    return self.X[idx], self.y[idx]"
      ],
      "metadata": {
        "id": "ErkLOfYrfzzg"
      },
      "execution_count": 108,
      "outputs": []
    },
    {
      "cell_type": "code",
      "source": [
        "train_dataset = CustomDataset(X_train, y_train)\n",
        "test_dataset = CustomDataset(X_test, y_test)"
      ],
      "metadata": {
        "id": "uSx1F-PigbFJ"
      },
      "execution_count": 109,
      "outputs": []
    },
    {
      "cell_type": "code",
      "source": [
        "# Implementing DataLoader\n",
        "\n",
        "batch_size = 12\n",
        "\n",
        "train_loader = DataLoader(train_dataset, batch_size=batch_size, shuffle=True)\n",
        "test_loader = DataLoader(test_dataset, batch_size=batch_size, shuffle=False)"
      ],
      "metadata": {
        "id": "AKDEZ11wgkLl"
      },
      "execution_count": 110,
      "outputs": []
    },
    {
      "cell_type": "code",
      "source": [
        "len(train_loader), len(test_loader)"
      ],
      "metadata": {
        "colab": {
          "base_uri": "https://localhost:8080/"
        },
        "id": "78Ig5CcZps30",
        "outputId": "16f0d201-d173-485f-e2c8-1530f015538f"
      },
      "execution_count": 111,
      "outputs": [
        {
          "output_type": "execute_result",
          "data": {
            "text/plain": [
              "(384, 21)"
            ]
          },
          "metadata": {},
          "execution_count": 111
        }
      ]
    },
    {
      "cell_type": "code",
      "source": [
        "it = iter(train_loader)\n",
        "x, y = next(it)\n",
        "print(x.shape, y.shape)"
      ],
      "metadata": {
        "colab": {
          "base_uri": "https://localhost:8080/"
        },
        "id": "Q_v8hrlag-Kd",
        "outputId": "d528ee07-6ac6-4fe1-e866-4b0b5bcdc156"
      },
      "execution_count": 112,
      "outputs": [
        {
          "output_type": "stream",
          "name": "stdout",
          "text": [
            "torch.Size([12, 7, 1]) torch.Size([12, 1])\n"
          ]
        }
      ]
    },
    {
      "cell_type": "markdown",
      "source": [
        "## Model - LSTM"
      ],
      "metadata": {
        "id": "3bDRJlcshlac"
      }
    },
    {
      "cell_type": "code",
      "source": [
        "# Set seed\n",
        "torch.manual_seed(42)"
      ],
      "metadata": {
        "colab": {
          "base_uri": "https://localhost:8080/"
        },
        "id": "P-VPnbyJ687t",
        "outputId": "bf3b343c-4241-437c-de27-dd594511b814"
      },
      "execution_count": 149,
      "outputs": [
        {
          "output_type": "execute_result",
          "data": {
            "text/plain": [
              "<torch._C.Generator at 0x7c340e45d110>"
            ]
          },
          "metadata": {},
          "execution_count": 149
        }
      ]
    },
    {
      "cell_type": "code",
      "source": [
        "# Defining the model\n",
        "\n",
        "class LSTM(nn.Module):\n",
        "  def __init__(self, input_size, hidden_size, num_stacked_layers=1):\n",
        "    super().__init__()\n",
        "    self.hidden_size = hidden_size\n",
        "    self.num_stacked_layers = num_stacked_layers\n",
        "\n",
        "    self.lstm = nn.LSTM(input_size, hidden_size, num_stacked_layers,\n",
        "                        batch_first=True)\n",
        "\n",
        "    self.fc1 = nn.Linear(hidden_size, 1)\n",
        "\n",
        "  def forward(self, x):\n",
        "    batch_size = x.size(0)\n",
        "    h0 = torch.zeros(self.num_stacked_layers, batch_size, self.hidden_size).to(device)\n",
        "    c0 = torch.zeros(self.num_stacked_layers, batch_size, self.hidden_size).to(device)\n",
        "\n",
        "    out, _ = self.lstm(x, (h0, c0))\n",
        "    out = self.fc1(out[:, -1, :])\n",
        "\n",
        "    return out"
      ],
      "metadata": {
        "id": "dhaxSNQnhD3d"
      },
      "execution_count": 150,
      "outputs": []
    },
    {
      "cell_type": "code",
      "source": [
        "# Model instantiation\n",
        "model = LSTM(1, 4, 1).to(device) # input_size = 1 (close value), hidden_size = 5, num_stacked_layers = 1"
      ],
      "metadata": {
        "id": "WUN2_KItjhuX"
      },
      "execution_count": 151,
      "outputs": []
    },
    {
      "cell_type": "code",
      "source": [
        "model"
      ],
      "metadata": {
        "colab": {
          "base_uri": "https://localhost:8080/"
        },
        "id": "4iZvUUhCkEcW",
        "outputId": "c9134acf-7db7-422e-a8d6-1bb55daaf686"
      },
      "execution_count": 152,
      "outputs": [
        {
          "output_type": "execute_result",
          "data": {
            "text/plain": [
              "LSTM(\n",
              "  (lstm): LSTM(1, 4, batch_first=True)\n",
              "  (fc1): Linear(in_features=4, out_features=1, bias=True)\n",
              ")"
            ]
          },
          "metadata": {},
          "execution_count": 152
        }
      ]
    },
    {
      "cell_type": "code",
      "source": [
        "# Loss, optimizer, etc\n",
        "loss_type = nn.MSELoss()\n",
        "optimizer = optim.Adam(model.parameters(), lr=0.001)"
      ],
      "metadata": {
        "id": "6x9POtBOowUU"
      },
      "execution_count": 153,
      "outputs": []
    },
    {
      "cell_type": "code",
      "source": [
        "# Training and testing\n",
        "epochs = 100\n",
        "start_timer = time.time()\n",
        "training_loss = []\n",
        "flag = False\n",
        "\n",
        "for epoch in range(epochs):\n",
        "\n",
        "  # Training\n",
        "  model.train(True)\n",
        "  running_loss = 0.0\n",
        "  if (epoch+1)%20==0:\n",
        "    print(f\"Epoch:{epoch+1}/{epochs}\")\n",
        "    flag = True\n",
        "\n",
        "  for i, batch in enumerate(train_loader):\n",
        "    inputs, labels = batch[0].to(device), batch[1].to(device) # Convert the input to 'device'(gpu or cpu) type\n",
        "\n",
        "    output = model(inputs) # Make predictions\n",
        "\n",
        "    loss = loss_type(output, labels) # Calculate the loss\n",
        "    running_loss += loss.item() # Update running loss\n",
        "\n",
        "    optimizer.zero_grad()\n",
        "    loss.backward()\n",
        "    optimizer.step()\n",
        "\n",
        "    if (i+1)%100 == 0 and flag == True:\n",
        "      avg_loss = running_loss / 100\n",
        "      print(f\"\\tBatch: {i+1}, Loss:{avg_loss}\")\n",
        "      running_loss = 0.0\n",
        "  flag = False\n",
        "  training_loss.append(running_loss)\n",
        "  # validate_one_epoch()\n",
        "\n",
        "end_timer = time.time()\n",
        "print()\n",
        "print(f\"Took {(end_timer-start_timer)/60} minutes to train\")"
      ],
      "metadata": {
        "colab": {
          "base_uri": "https://localhost:8080/"
        },
        "id": "KnSXmxqKkcIt",
        "outputId": "11d98823-1cde-4b2c-cbf0-c0b220f0a18f"
      },
      "execution_count": 154,
      "outputs": [
        {
          "output_type": "stream",
          "name": "stdout",
          "text": [
            "Epoch:20/100\n",
            "\tBatch: 100, Loss:0.0003149128664881573\n",
            "\tBatch: 200, Loss:0.00026947648353598197\n",
            "\tBatch: 300, Loss:0.0003107909514437779\n",
            "Epoch:40/100\n",
            "\tBatch: 100, Loss:0.00027366327278286915\n",
            "\tBatch: 200, Loss:0.00021615358264170936\n",
            "\tBatch: 300, Loss:0.00019232803660088394\n",
            "Epoch:60/100\n",
            "\tBatch: 100, Loss:0.00020019007579321623\n",
            "\tBatch: 200, Loss:0.00021016051538936154\n",
            "\tBatch: 300, Loss:0.00021370172402384924\n",
            "Epoch:80/100\n",
            "\tBatch: 100, Loss:0.00016472701367547415\n",
            "\tBatch: 200, Loss:0.0001999952213100187\n",
            "\tBatch: 300, Loss:0.00016562041935685556\n",
            "Epoch:100/100\n",
            "\tBatch: 100, Loss:0.00016231029496339034\n",
            "\tBatch: 200, Loss:0.00019223077593778727\n",
            "\tBatch: 300, Loss:0.00017495234336365684\n",
            "\n",
            "Took 1.4567198793093363 minutes to train\n"
          ]
        }
      ]
    },
    {
      "cell_type": "code",
      "source": [
        "# Testing\n",
        "test_loss = []\n",
        "total_samples = 0\n",
        "correct = 0\n",
        "\n",
        "with torch.no_grad():\n",
        "  for epoch in range(epochs):\n",
        "    model.train(False)\n",
        "    running_loss = 0.0\n",
        "    if (epoch+1)%20==0:\n",
        "      print(f\"Epoch:{epoch+1}/{epochs}\")\n",
        "      flag = True\n",
        "\n",
        "    for i, batch in enumerate(test_loader):\n",
        "      inputs, labels = batch[0].to(device), batch[1].to(device)\n",
        "\n",
        "      output = model(inputs) # Make predictions\n",
        "      correct += (output == labels).sum()\n",
        "      total_samples += labels.size(0)\n",
        "\n",
        "      loss = loss_type(output, labels) # Calculate the loss\n",
        "      running_loss += loss.item()\n",
        "    test_loss.append(running_loss)\n",
        "    avg_loss_across_batches = running_loss / len(test_loader)\n",
        "\n",
        "    if flag:\n",
        "      print(f\"Validation Loss: {avg_loss_across_batches}\")\n",
        "      print(\"*\"*100)\n",
        "      flag = False"
      ],
      "metadata": {
        "colab": {
          "base_uri": "https://localhost:8080/"
        },
        "id": "3x3yLhRg2b4R",
        "outputId": "c2468dcf-9cc1-4df7-999a-276d724db51e"
      },
      "execution_count": 155,
      "outputs": [
        {
          "output_type": "stream",
          "name": "stdout",
          "text": [
            "Epoch:20/100\n",
            "Validation Loss: 0.000904176306600372\n",
            "****************************************************************************************************\n",
            "Epoch:40/100\n",
            "Validation Loss: 0.000904176306600372\n",
            "****************************************************************************************************\n",
            "Epoch:60/100\n",
            "Validation Loss: 0.000904176306600372\n",
            "****************************************************************************************************\n",
            "Epoch:80/100\n",
            "Validation Loss: 0.000904176306600372\n",
            "****************************************************************************************************\n",
            "Epoch:100/100\n",
            "Validation Loss: 0.000904176306600372\n",
            "****************************************************************************************************\n"
          ]
        }
      ]
    },
    {
      "cell_type": "markdown",
      "source": [
        "## Training and testing error"
      ],
      "metadata": {
        "id": "NQDKB97a-On1"
      }
    },
    {
      "cell_type": "code",
      "source": [
        "plt.plot(range(epochs), training_loss)\n",
        "plt.plot(range(epochs), test_loss)\n",
        "plt.ylabel(\"Loss\")\n",
        "plt.xlabel(\"Epochs\")\n",
        "plt.title(\"Training vs Testing Loss\")"
      ],
      "metadata": {
        "colab": {
          "base_uri": "https://localhost:8080/",
          "height": 489
        },
        "id": "QRbr2Ia_6Kyj",
        "outputId": "ddfc50fd-05cd-434c-f1ac-43619f889809"
      },
      "execution_count": 156,
      "outputs": [
        {
          "output_type": "execute_result",
          "data": {
            "text/plain": [
              "Text(0.5, 1.0, 'Training vs Testing Loss')"
            ]
          },
          "metadata": {},
          "execution_count": 156
        },
        {
          "output_type": "display_data",
          "data": {
            "text/plain": [
              "<Figure size 640x480 with 1 Axes>"
            ],
            "image/png": "[encoded data removed]"
          },
          "metadata": {}
        }
      ]
    },
    {
      "cell_type": "markdown",
      "source": [
        "## Results"
      ],
      "metadata": {
        "id": "FjcDR5toDL24"
      }
    },
    {
      "cell_type": "markdown",
      "source": [
        "#### Train data"
      ],
      "metadata": {
        "id": "dJJmNiXWINW1"
      }
    },
    {
      "cell_type": "code",
      "source": [
        "# Calculate the predictions\n",
        "\n",
        "with torch.no_grad():\n",
        "  predicted = model(X_train.to(device)).to('cpu').numpy()"
      ],
      "metadata": {
        "id": "AyH0d1MWH0wY"
      },
      "execution_count": 157,
      "outputs": []
    },
    {
      "cell_type": "code",
      "source": [
        "# Perform inverse transform to scale back the values from (-1, 1) range to their actual values\n",
        "\n",
        "train_predictions = predicted.flatten() # Flatten the pred values to make sure theres 1 dim\n",
        "\n",
        "dum = np.zeros((X_train.shape[0], lookback+1)) # Make a dummy matrix with the same dimensions as X_train\n",
        "dum[:, 0] = train_predictions # Assign the first column the predicted values\n",
        "dum = scaler.inverse_transform(dum) # Perform the inverse transform to scale back the values\n",
        "\n",
        "train_predictions = deepcopy(dum[:, 0]) # Get a deepcopy of the scaled predictions\n",
        "train_predictions"
      ],
      "metadata": {
        "colab": {
          "base_uri": "https://localhost:8080/"
        },
        "id": "kcLWxy6HFMer",
        "outputId": "255e8008-03a6-4c6a-d362-5fc57518d7d4"
      },
      "execution_count": 158,
      "outputs": [
        {
          "output_type": "execute_result",
          "data": {
            "text/plain": [
              "array([ 2.76925675,  2.716294  ,  2.69219794, ..., 93.86643236,\n",
              "       96.06667224, 95.68225944])"
            ]
          },
          "metadata": {},
          "execution_count": 158
        }
      ]
    },
    {
      "cell_type": "code",
      "source": [
        "# Perform the same operation for y_train\n",
        "\n",
        "dum = np.zeros((X_train.shape[0], lookback+1))\n",
        "dum[:, 0] = y_train.flatten()\n",
        "dum = scaler.inverse_transform(dum)\n",
        "\n",
        "new_y_train = deepcopy(dum[:, 0])\n",
        "new_y_train"
      ],
      "metadata": {
        "colab": {
          "base_uri": "https://localhost:8080/"
        },
        "id": "kpXP6qD2HOZH",
        "outputId": "4d8d2b95-478e-445f-9394-507be5a54d05"
      },
      "execution_count": 159,
      "outputs": [
        {
          "output_type": "execute_result",
          "data": {
            "text/plain": [
              "array([ 2.54072625,  2.54969326,  2.49688953, ..., 95.84999763,\n",
              "       95.30999848, 91.19999662])"
            ]
          },
          "metadata": {},
          "execution_count": 159
        }
      ]
    },
    {
      "cell_type": "code",
      "source": [
        "# Plot the values\n",
        "plt.plot(new_y_train, label='Actual Close Value')\n",
        "plt.plot(train_predictions, label='Predicted Close Value')\n",
        "plt.xlabel('Day')\n",
        "plt.ylabel('Close Value')\n",
        "plt.title('Train Data: Actual vs Predicted')\n",
        "plt.legend()\n",
        "plt.show()"
      ],
      "metadata": {
        "colab": {
          "base_uri": "https://localhost:8080/",
          "height": 472
        },
        "id": "gUf_QYH3DQRJ",
        "outputId": "cf317e9a-5c7b-4545-ff60-bf06153d63a5"
      },
      "execution_count": 160,
      "outputs": [
        {
          "output_type": "display_data",
          "data": {
            "text/plain": [
              "<Figure size 640x480 with 1 Axes>"
            ],
            "image/png": "[encoded data removed]"
          },
          "metadata": {}
        }
      ]
    },
    {
      "cell_type": "markdown",
      "source": [
        "#### Test data"
      ],
      "metadata": {
        "id": "mu-jH2_bIR_p"
      }
    },
    {
      "cell_type": "code",
      "source": [
        "# Calculate predictions on the test set\n",
        "test_predictions = model(X_test.to(device)).detach().cpu().numpy().flatten() # using detach is an alternative to torch.no_grad()\n",
        "test_predictions.shape"
      ],
      "metadata": {
        "colab": {
          "base_uri": "https://localhost:8080/"
        },
        "id": "tusBNEnYHsHP",
        "outputId": "87c5355c-71d0-447e-9717-7901ae1d000c"
      },
      "execution_count": 161,
      "outputs": [
        {
          "output_type": "execute_result",
          "data": {
            "text/plain": [
              "(243,)"
            ]
          },
          "metadata": {},
          "execution_count": 161
        }
      ]
    },
    {
      "cell_type": "code",
      "source": [
        "# Perform inverse transform for predictions\n",
        "\n",
        "dum = np.zeros((X_test.shape[0], lookback+1))\n",
        "dum[:, 0] = test_predictions\n",
        "dum = scaler.inverse_transform(dum)\n",
        "\n",
        "test_predictions = deepcopy(dum[:, 0])\n",
        "test_predictions.shape"
      ],
      "metadata": {
        "colab": {
          "base_uri": "https://localhost:8080/"
        },
        "id": "dmqOUZR8IkD9",
        "outputId": "66343c48-583c-4cf8-83b0-bfdc095cfdde"
      },
      "execution_count": 162,
      "outputs": [
        {
          "output_type": "execute_result",
          "data": {
            "text/plain": [
              "(243,)"
            ]
          },
          "metadata": {},
          "execution_count": 162
        }
      ]
    },
    {
      "cell_type": "code",
      "source": [
        "# Perform the same operation for y_test\n",
        "\n",
        "dum = np.zeros((X_test.shape[0], lookback+1))\n",
        "dum[:, 0] = y_test.flatten()\n",
        "dum = scaler.inverse_transform(dum)\n",
        "\n",
        "new_y_test = deepcopy(dum[:, 0])\n",
        "new_y_test.shape"
      ],
      "metadata": {
        "colab": {
          "base_uri": "https://localhost:8080/"
        },
        "id": "rnDkdhxoJZE4",
        "outputId": "a2e9dc08-7227-4994-d5a6-c63540b1b895"
      },
      "execution_count": 163,
      "outputs": [
        {
          "output_type": "execute_result",
          "data": {
            "text/plain": [
              "(243,)"
            ]
          },
          "metadata": {},
          "execution_count": 163
        }
      ]
    },
    {
      "cell_type": "code",
      "source": [
        "plt.plot(new_y_test, label='Actual Close Value')\n",
        "plt.plot(test_predictions, label='Predicted Close Value')\n",
        "plt.xlabel('Day')\n",
        "plt.ylabel('Close Value')\n",
        "plt.title('Test Data: Actual vs Predicted')\n",
        "plt.legend()\n",
        "plt.show()"
      ],
      "metadata": {
        "colab": {
          "base_uri": "https://localhost:8080/",
          "height": 472
        },
        "id": "62bGpGhYI9SX",
        "outputId": "cde6edea-9015-4b72-d4d2-c6de4e256ead"
      },
      "execution_count": 164,
      "outputs": [
        {
          "output_type": "display_data",
          "data": {
            "text/plain": [
              "<Figure size 640x480 with 1 Axes>"
            ],
            "image/png": "[encoded data removed]"
          },
          "metadata": {}
        }
      ]
    },
    {
      "cell_type": "code",
      "source": [
        "# Calculating the mean-squared-error and the r2 score\n",
        "print(\"Mean Squared Error: {0:.3f}\".format(mean_squared_error(new_y_test, test_predictions)))\n",
        "print(\"R2 Score: {0:.3f}\".format(r2_score(new_y_test, test_predictions)))"
      ],
      "metadata": {
        "colab": {
          "base_uri": "https://localhost:8080/"
        },
        "id": "r89PgtirJxFg",
        "outputId": "e5006fd4-ff34-41fe-efbe-cedd153b804a"
      },
      "execution_count": 173,
      "outputs": [
        {
          "output_type": "stream",
          "name": "stdout",
          "text": [
            "Mean Squared Error: 4.988\n",
            "R2 Score: 0.982\n"
          ]
        }
      ]
    }
  ]
}